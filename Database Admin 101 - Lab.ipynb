{
 "cells": [
  {
   "cell_type": "markdown",
   "metadata": {},
   "source": [
    "# Database Admin 101 - Lab\n",
    "\n",
    "## Introduction \n",
    "\n",
    "In this lab, you'll go through the process of designing and creating a database. From there, you'll begin to populate this table with mock data provided to you.\n",
    "\n",
    "## Objectives\n",
    "\n",
    "You will be able to:\n",
    "\n",
    "* Use knowledge of the structure of databases to create a database and populate it"
   ]
  },
  {
   "cell_type": "markdown",
   "metadata": {},
   "source": [
    "## The Scenario\n",
    "\n",
    "You are looking to design a database for a school that will house various information from student grades to contact information, class roster lists and attendance. First, think of how you would design such a database. What tables would you include? What columns would each table have? What would be the primary means to join said tables?"
   ]
  },
  {
   "cell_type": "markdown",
   "metadata": {},
   "source": [
    "## Creating the Database\n",
    "\n",
    "Now that you've put a little thought into how you might design your database, it's time to go ahead and create it! Start by import the necessary packages. Then, create a database called **school.sqlite**."
   ]
  },
  {
   "cell_type": "code",
   "execution_count": 16,
   "metadata": {},
   "outputs": [],
   "source": [
    "# Import necessary packages\n",
    "import sqlite3 \n",
    "import pandas as pd\n",
    "cur = conn.cursor()"
   ]
  },
  {
   "cell_type": "code",
   "execution_count": 17,
   "metadata": {},
   "outputs": [],
   "source": [
    "# Create the database school.sqlite \n",
    "conn = sqlite3.connect(\"school.sqlite\")"
   ]
  },
  {
   "cell_type": "markdown",
   "metadata": {},
   "source": [
    "Create a Table for Contact Information\n",
    "Create a table called contactInfo to house contact information for both students and staff. Be sure to include columns for first name, last name, role (student/staff), telephone number, street, city, state, and zipcode. Be sure to also create a primary key for the table."
   ]
  },
  {
   "cell_type": "code",
   "execution_count": 18,
   "metadata": {},
   "outputs": [
    {
     "data": {
      "text/plain": [
       "<sqlite3.Cursor at 0x234bb625340>"
      ]
     },
     "execution_count": 18,
     "metadata": {},
     "output_type": "execute_result"
    }
   ],
   "source": [
    "# Your code here\n",
    "cur.execute(\"DROP TABLE IF EXISTS contactinfo\")\n",
    "cur.execute(\"\"\"CREATE TABLE contactinfo (\n",
    "                    id INTEGER PRIMARY KEY,\n",
    "                    first_name TEXT,\n",
    "                    last_name TEXT,\n",
    "                    role TEXT CHECK(role IN ('student', 'staff')) NOT NULL,\n",
    "                    telephone_number TEXT,\n",
    "                    street TEXT,\n",
    "                    city TEXT,\n",
    "                    state TEXT,\n",
    "                    zipcode TEXT\n",
    "                )\"\"\")\n"
   ]
  },
  {
   "cell_type": "markdown",
   "metadata": {},
   "source": [
    "## Populate the Table\n",
    "\n",
    "Below, code is provided for you in order to load a list of dictionaries. Briefly examine the list. Each dictionary in the list will serve as an entry for your contact info table. Once you've briefly investigated the structure of this data, write a for loop to iterate through the list and create an entry in your table for each person's contact info."
   ]
  },
  {
   "cell_type": "code",
   "execution_count": 19,
   "metadata": {},
   "outputs": [],
   "source": [
    "# Load the list of dictionaries; just run this cell\n",
    "import pickle\n",
    "\n",
    "with open('contact_list.pickle', 'rb') as f:\n",
    "    contacts = pickle.load(f)"
   ]
  },
  {
   "cell_type": "code",
   "execution_count": 25,
   "metadata": {},
   "outputs": [],
   "source": [
    "# Iterate over the contact list and populate the contactInfo table here\n",
    "for contact in contacts:\n",
    "    cur.execute('''\n",
    "        INSERT INTO contactInfo (first_name, last_name, role, telephone_number, street, city, state, zipcode)\n",
    "        VALUES (?, ?, ?, ?, ?, ?, ?, ?)\n",
    "    ''', (\n",
    "        contact.get('firstName'),\n",
    "        contact.get('lastName'),\n",
    "        contact.get('role'),\n",
    "        str(contact.get('telephone')).strip(),\n",
    "        contact.get('street'),\n",
    "        contact.get('city'),\n",
    "        contact.get('state'),\n",
    "        str(contact.get('zipcode')).strip()\n",
    "    ))\n",
    "    \n",
    "    conn.commit()"
   ]
  },
  {
   "cell_type": "markdown",
   "metadata": {},
   "source": [
    "**Query the Table to Ensure it is populated**"
   ]
  },
  {
   "cell_type": "code",
   "execution_count": 27,
   "metadata": {},
   "outputs": [
    {
     "name": "stdout",
     "output_type": "stream",
     "text": [
      "(1, 'Christine', 'Holden', 'staff', 'None', '1672 Whitman Court', 'Stamford', 'CT', 'None')\n",
      "(2, 'Christine', 'Holden', 'staff', 'None', '1672 Whitman Court', 'Stamford', 'CT', 'None')\n",
      "(3, 'Christopher', 'Warren', 'student', 'None', '1935 University Hill Road', 'Champaign', 'IL', 'None')\n",
      "(4, 'Linda', 'Jacobson', 'staff', 'None', '479 Musgrave Street', 'Atlanta', 'GA', 'None')\n",
      "(5, 'Andrew', 'Stepp', 'student', 'None', '2981 Lamberts Branch Road', 'Hialeah', 'Fl', 'None')\n"
     ]
    }
   ],
   "source": [
    "# Your code here \n",
    "cur.execute('SELECT * FROM contactInfo LIMIT 5')\n",
    "rows = cur.fetchall()\n",
    "\n",
    "for row in rows:\n",
    "    print(row)"
   ]
  },
  {
   "cell_type": "markdown",
   "metadata": {},
   "source": [
    "## Commit Your Changes to the Database\n",
    "\n",
    "Persist your changes by committing them to the database."
   ]
  },
  {
   "cell_type": "code",
   "execution_count": 28,
   "metadata": {},
   "outputs": [],
   "source": [
    "# Your code here\n",
    "conn.commit()"
   ]
  },
  {
   "cell_type": "markdown",
   "metadata": {},
   "source": [
    "## Create a Table for Student Grades\n",
    "\n",
    "Create a new table in the database called \"grades\". In the table, include the following fields: userId, courseId, grade.\n",
    "\n",
    "** This problem is a bit more tricky and will require a dual key. (A nuance you have yet to see.)\n",
    "Here's how to do that:\n",
    "\n",
    "```SQL\n",
    "CREATE TABLE table_name(\n",
    "   column_1 INTEGER NOT NULL,\n",
    "   column_2 INTEGER NOT NULL,\n",
    "   ...\n",
    "   PRIMARY KEY(column_1,column_2,...)\n",
    ");\n",
    "```"
   ]
  },
  {
   "cell_type": "code",
   "execution_count": 32,
   "metadata": {},
   "outputs": [],
   "source": [
    "# Create the grades table\n",
    "cur.execute(\"DROP TABLE IF EXISTS grades\")\n",
    "cur.execute(\"\"\"\n",
    "CREATE TABLE grades (\n",
    "    userId INTEGER NOT NULL,\n",
    "    courseId INTEGER NOT NULL,\n",
    "    grade INTERGER,\n",
    "    PRIMARY KEY(userId, courseId)\n",
    ")\n",
    "\"\"\")\n",
    "\n",
    "conn.commit()"
   ]
  },
  {
   "cell_type": "markdown",
   "metadata": {},
   "source": [
    "## Remove Duplicate Entries\n",
    "\n",
    "An analyst just realized that there is a duplicate entry in the contactInfo table! Find and remove it."
   ]
  },
  {
   "cell_type": "code",
   "execution_count": 33,
   "metadata": {},
   "outputs": [
    {
     "data": {
      "text/plain": [
       "[('Christine',\n",
       "  'Holden',\n",
       "  'staff',\n",
       "  'None',\n",
       "  '1672 Whitman Court',\n",
       "  'Stamford',\n",
       "  'CT',\n",
       "  'None',\n",
       "  2),\n",
       " ('Jane',\n",
       "  'Evans',\n",
       "  'student',\n",
       "  'None',\n",
       "  '1461 Briarhill Lane',\n",
       "  'Abilene',\n",
       "  'TX',\n",
       "  'None',\n",
       "  2)]"
      ]
     },
     "execution_count": 33,
     "metadata": {},
     "output_type": "execute_result"
    }
   ],
   "source": [
    "# Find the duplicate entry\n",
    "cur.execute(\"\"\"\n",
    "SELECT first_name, last_name, role, telephone_number, street, city, state, zipcode, COUNT(*) AS cnt\n",
    "FROM contactInfo\n",
    "GROUP BY first_name, last_name, role, telephone_number, street, city, state, zipcode\n",
    "HAVING COUNT(*) > 1;\n",
    "\"\"\")\n",
    "cur.fetchall()"
   ]
  },
  {
   "cell_type": "code",
   "execution_count": 37,
   "metadata": {},
   "outputs": [
    {
     "name": "stdout",
     "output_type": "stream",
     "text": [
      "remove duplicates.\n"
     ]
    }
   ],
   "source": [
    "# Delete the duplicate entry\n",
    "cur.execute(\"\"\"\n",
    "DELETE FROM contactInfo\n",
    "WHERE id NOT IN (\n",
    "    SELECT MIN(id)\n",
    "    FROM contactInfo\n",
    "    GROUP BY first_name, last_name, role, telephone_number, street, city, state, zipcode\n",
    ");\n",
    "\"\"\")\n",
    "conn.commit()\n",
    "print(\"remove duplicates.\")"
   ]
  },
  {
   "cell_type": "code",
   "execution_count": 40,
   "metadata": {},
   "outputs": [
    {
     "name": "stdout",
     "output_type": "stream",
     "text": [
      " No duplicates found.\n"
     ]
    }
   ],
   "source": [
    "# Check that the duplicate entry was removed\n",
    "cur.execute (\"\"\"\n",
    "SELECT first_name, last_name, role, telephone_number, street, city, state, zipcode, COUNT(*) as cnt\n",
    "FROM contactInfo\n",
    "GROUP BY first_name, last_name, role, telephone_number, street, city, state, zipcode\n",
    "HAVING cnt > 1;\n",
    "\"\"\")\n",
    "\n",
    "duplicates = cur.fetchall()\n",
    "\n",
    "if duplicates:\n",
    "    print(\"Duplicates still found:\")\n",
    "    for d in duplicates:\n",
    "        print(d)\n",
    "else:\n",
    "    print(\" No duplicates found.\")"
   ]
  },
  {
   "cell_type": "markdown",
   "metadata": {},
   "source": [
    "## Updating an Address\n",
    "\n",
    "Ed Lyman just moved to `2910 Simpson Avenue York, PA 17403`. Update his address accordingly."
   ]
  },
  {
   "cell_type": "code",
   "execution_count": 41,
   "metadata": {},
   "outputs": [
    {
     "data": {
      "text/plain": [
       "<sqlite3.Cursor at 0x234bb625340>"
      ]
     },
     "execution_count": 41,
     "metadata": {},
     "output_type": "execute_result"
    }
   ],
   "source": [
    "# Update Ed's address\n",
    "cur.execute(\"\"\"\n",
    "UPDATE contactInfo\n",
    "SET street = '2910 Simpson Avenue',\n",
    "    city = 'York',\n",
    "    state = 'PA',\n",
    "    zipcode = '17483'\n",
    "WHERE first_name = 'Ed' AND last_name = 'Lyman';\n",
    "\"\"\")"
   ]
  },
  {
   "cell_type": "code",
   "execution_count": 42,
   "metadata": {},
   "outputs": [
    {
     "name": "stdout",
     "output_type": "stream",
     "text": [
      "[('Ed', 'Lyman', '2910 Simpson Avenue', 'York', 'PA', '17483')]\n"
     ]
    }
   ],
   "source": [
    "# Query the database to ensure the change was made\n",
    "cur.execute(\"\"\"\n",
    "SELECT first_name, last_name, street, city, state, zipcode\n",
    "FROM contactInfo\n",
    "WHERE first_name = 'Ed' AND last_name = 'Lyman';\n",
    "\"\"\")\n",
    "print(cur.fetchall())"
   ]
  },
  {
   "cell_type": "markdown",
   "metadata": {},
   "source": [
    "## Commit Your Changes to the Database\n",
    "\n",
    "Once again, persist your changes by committing them to the database."
   ]
  },
  {
   "cell_type": "code",
   "execution_count": 44,
   "metadata": {},
   "outputs": [
    {
     "name": "stdout",
     "output_type": "stream",
     "text": [
      "changes committed\n"
     ]
    }
   ],
   "source": [
    "# Your code here\n",
    "conn.commit()\n",
    "print('changes committed')"
   ]
  },
  {
   "cell_type": "markdown",
   "metadata": {},
   "source": [
    "## Summary\n",
    "\n",
    "While there's certainly more to do with setting up and managing this database, you got a taste for creating, populating, and maintaining databases! Feel free to continue fleshing out this exercise for more practice. "
   ]
  }
 ],
 "metadata": {
  "kernelspec": {
   "display_name": "Python 3",
   "language": "python",
   "name": "python3"
  },
  "language_info": {
   "codemirror_mode": {
    "name": "ipython",
    "version": 3
   },
   "file_extension": ".py",
   "mimetype": "text/x-python",
   "name": "python",
   "nbconvert_exporter": "python",
   "pygments_lexer": "ipython3",
   "version": "3.8.5"
  },
  "toc": {
   "base_numbering": 1,
   "nav_menu": {},
   "number_sections": true,
   "sideBar": true,
   "skip_h1_title": false,
   "title_cell": "Table of Contents",
   "title_sidebar": "Contents",
   "toc_cell": false,
   "toc_position": {},
   "toc_section_display": true,
   "toc_window_display": false
  }
 },
 "nbformat": 4,
 "nbformat_minor": 2
}
